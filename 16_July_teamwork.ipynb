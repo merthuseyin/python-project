{
  "nbformat": 4,
  "nbformat_minor": 0,
  "metadata": {
    "colab": {
      "name": "16 July_teamwork.ipynb",
      "provenance": [],
      "authorship_tag": "ABX9TyOqThkh2GILq4eAFLMxpvtB",
      "include_colab_link": true
    },
    "kernelspec": {
      "name": "python3",
      "display_name": "Python 3"
    },
    "language_info": {
      "name": "python"
    }
  },
  "cells": [
    {
      "cell_type": "markdown",
      "metadata": {
        "id": "view-in-github",
        "colab_type": "text"
      },
      "source": [
        "<a href=\"https://colab.research.google.com/github/merthuseyin/python-project/blob/main/16_July_teamwork.ipynb\" target=\"_parent\"><img src=\"https://colab.research.google.com/assets/colab-badge.svg\" alt=\"Open In Colab\"/></a>"
      ]
    },
    {
      "cell_type": "markdown",
      "metadata": {
        "id": "6O2sOTqAZkjR"
      },
      "source": [
        "# **Length of Number**\n",
        "\n",
        "Create a function that takes a number num and returns its length.\n",
        "\n",
        "Examples\n",
        "number_length(10) ➞ 2\n",
        "\n",
        "number_length(5000) ➞ 4\n",
        "\n",
        "number_length(0) ➞ 1\n",
        "\n",
        "# *Notes*\n",
        "\n",
        "The use of the len() function is prohibited."
      ]
    },
    {
      "cell_type": "code",
      "metadata": {
        "id": "zXDhFw3ZZg0g"
      },
      "source": [
        "number = list(input(\"Enter a number: \"))  #Hüseyin\n",
        "print(number)\n",
        "for i in number:\n",
        "  a = (number.index(i)) + 1\n",
        "print(a)"
      ],
      "execution_count": null,
      "outputs": []
    },
    {
      "cell_type": "code",
      "metadata": {
        "id": "OWrfvw7eA1Fp",
        "colab": {
          "base_uri": "https://localhost:8080/"
        },
        "outputId": "87e616df-3a03-48da-f0a2-74cb513cd45f"
      },
      "source": [
        "number = input('Enter a number: ').strip()  # Selman\n",
        "count = 0\n",
        "for i in number:\n",
        "    count+=1\n",
        "print(f'{number} length is {count}')"
      ],
      "execution_count": 1,
      "outputs": [
        {
          "output_type": "stream",
          "text": [
            "Enter a number: 67485\n",
            "67485 length is 5\n"
          ],
          "name": "stdout"
        }
      ]
    },
    {
      "cell_type": "code",
      "metadata": {
        "id": "V0e16xEdECZE",
        "colab": {
          "base_uri": "https://localhost:8080/"
        },
        "outputId": "46c7245c-3b34-4a44-ad84-9bb909bd5bb3"
      },
      "source": [
        "def number_length(num):  # Samet\n",
        "    number = list(str(round(num)))\n",
        "    length = 0\n",
        "    for i in number:\n",
        "        length +=1\n",
        "    return length\n",
        "number_length(45781111.22)"
      ],
      "execution_count": 3,
      "outputs": [
        {
          "output_type": "execute_result",
          "data": {
            "text/plain": [
              "8"
            ]
          },
          "metadata": {
            "tags": []
          },
          "execution_count": 3
        }
      ]
    },
    {
      "cell_type": "code",
      "metadata": {
        "colab": {
          "base_uri": "https://localhost:8080/"
        },
        "id": "2VDdQp-vZf85",
        "outputId": "245f0575-7009-49db-a89a-a6eb8573cfb7"
      },
      "source": [
        "def numlen(a):  # Emre\n",
        "    a = str(a)\n",
        "    return len(a)\n",
        "\n",
        "    \n",
        "a = 456533457776\n",
        "print(numlen(a))"
      ],
      "execution_count": 4,
      "outputs": [
        {
          "output_type": "stream",
          "text": [
            "12\n"
          ],
          "name": "stdout"
        }
      ]
    },
    {
      "cell_type": "code",
      "metadata": {
        "id": "aa2-BlVBZyrS"
      },
      "source": [
        "num = int(input(\"number: \"))  # Sergen\n",
        "if 0<=num<10:\n",
        "  print(\"lenght: 1\")\n",
        "elif 10<=num<100:\n",
        "  print(\"lenght: 2\")\n",
        "elif 100<=num<1000:\n",
        "  print(\"lenght: 3\")\n",
        "elif 1000<=num<10000:\n",
        "  print(\"lenght: 4\")\n",
        "elif 10000<=num<100000:\n",
        "  print(\"lenght: 5\")"
      ],
      "execution_count": null,
      "outputs": []
    },
    {
      "cell_type": "code",
      "metadata": {
        "colab": {
          "base_uri": "https://localhost:8080/"
        },
        "id": "5uciP2OYq_Mx",
        "outputId": "e1b1c82f-25af-45de-bf40-0018b868505e"
      },
      "source": [
        "number = int(input(\"write a number to learn its digits\"))  # Nadire\n",
        "count = 0\n",
        "while number > 0:\n",
        "      count += 1\n",
        "      number //= 10\n",
        "print(\"The number of digits in the given number are:\", count)"
      ],
      "execution_count": 5,
      "outputs": [
        {
          "output_type": "stream",
          "text": [
            "write a number to learn its digits456123\n",
            "The number of digits in the given number are: 6\n"
          ],
          "name": "stdout"
        }
      ]
    },
    {
      "cell_type": "markdown",
      "metadata": {
        "id": "c2_f-6qXZiwf"
      },
      "source": [
        "# **Geometry 1: Length of Line Segment**\n",
        "\n",
        "Write a function that takes coordinates of two points on a two-dimensional plane and returns the length of the line segment connecting those two points.\n",
        "\n",
        "Examples\n",
        "\n",
        "line_length([15, 7], [22, 11]) ➞ 8.06\n",
        "\n",
        "line_length([0, 0], [0, 0]) ➞ 0\n",
        "\n",
        "line_length([0, 0], [1, 1]) ➞ 1.41\n",
        "\n",
        "*Notes*\n",
        "\n",
        "* The order of the given numbers is X, Y.\n",
        "\n",
        "* This challenge is easier than it looks.\n",
        "\n",
        "* Round your result to two decimal places."
      ]
    },
    {
      "cell_type": "code",
      "metadata": {
        "id": "Z6iHYW2hbI6d",
        "colab": {
          "base_uri": "https://localhost:8080/"
        },
        "outputId": "d02d0647-e320-453f-8878-d8da1b3bb64c"
      },
      "source": [
        "#m = []  # Hüseyin\n",
        "#i = 0\n",
        "#j = 0\n",
        "#while i < 2:\n",
        "#  while j < 2:\n",
        "#    coords = int(input(\"Enter the coordinates: \"))\n",
        "#    m[i][j].append(coords)\n",
        "#    j += 1\n",
        "#  i += 1\n",
        "m = ([5, 5], [11, 14])\n",
        "len_points = (((m[1][0] - m[0][0]) ** 2) + ((m[1][1] - m[0][1]) ** 2)) ** 1/2\n",
        "print(\"{:.2f}\".format(len_points))"
      ],
      "execution_count": 7,
      "outputs": [
        {
          "output_type": "stream",
          "text": [
            "58.50\n"
          ],
          "name": "stdout"
        }
      ]
    },
    {
      "cell_type": "code",
      "metadata": {
        "colab": {
          "base_uri": "https://localhost:8080/",
          "height": 35
        },
        "id": "zBJxPDQQAwDa",
        "outputId": "57aa0aef-ae7c-4946-8f62-443ec8bc9784"
      },
      "source": [
        "def line_length(x, y):  # Selman\n",
        "    result = ((y[0]-x[0])**2+(y[1]-x[1])**2)**0.5\n",
        "    return f'{result:.3}'\n",
        "line_length([15, 7], [22, 11])"
      ],
      "execution_count": 10,
      "outputs": [
        {
          "output_type": "execute_result",
          "data": {
            "application/vnd.google.colaboratory.intrinsic+json": {
              "type": "string"
            },
            "text/plain": [
              "'8.06'"
            ]
          },
          "metadata": {
            "tags": []
          },
          "execution_count": 10
        }
      ]
    },
    {
      "cell_type": "code",
      "metadata": {
        "id": "UwUof4UHEIWL",
        "colab": {
          "base_uri": "https://localhost:8080/"
        },
        "outputId": "f5a9c898-465d-429e-8742-7b9dcb860f8d"
      },
      "source": [
        "def line_length(point1,point2):  # Samet\n",
        "    x = point2[0] - point1[0]\n",
        "    y = point2[1] - point1[1]\n",
        "    sonuc = round((x**2 + y**2)**(1/2), 3)\n",
        "    return sonuc\n",
        "line_length([15,7],[22,11])"
      ],
      "execution_count": 14,
      "outputs": [
        {
          "output_type": "execute_result",
          "data": {
            "text/plain": [
              "8.062"
            ]
          },
          "metadata": {
            "tags": []
          },
          "execution_count": 14
        }
      ]
    },
    {
      "cell_type": "code",
      "metadata": {
        "colab": {
          "base_uri": "https://localhost:8080/"
        },
        "id": "QC1OT0m2aJt8",
        "outputId": "b711f605-14cd-4329-ece1-dfc806dc06b2"
      },
      "source": [
        "def length(x1 , y1 , x2 , y2):  # Emre\n",
        "    return  ((x2 - x1) ** 2 + \n",
        "            (y2 - y1) ** 2) ** 0.5\n",
        "  \n",
        "print(length(15, 7, 22, 11))"
      ],
      "execution_count": 15,
      "outputs": [
        {
          "output_type": "stream",
          "text": [
            "8.06225774829855\n"
          ],
          "name": "stdout"
        }
      ]
    },
    {
      "cell_type": "code",
      "metadata": {
        "colab": {
          "base_uri": "https://localhost:8080/"
        },
        "id": "ByNQflB0aNk8",
        "outputId": "3816c210-575a-448a-81f2-d819c90805e3"
      },
      "source": [
        "fpx = int(input(\"x: \"))  # Sergen\n",
        "fpy = int(input(\"y: \"))\n",
        "spx = int(input(\"x: \"))\n",
        "spy = int(input(\"y: \"))\n",
        "\n",
        "a = fpx-spx\n",
        "b = fpy-spy\n",
        "\n",
        "length = ((a*a)+(b*b))**0.5\n",
        "\n",
        "print(length)"
      ],
      "execution_count": 16,
      "outputs": [
        {
          "output_type": "stream",
          "text": [
            "x: 3\n",
            "y: 4\n",
            "x: 5\n",
            "y: 6\n",
            "2.8284271247461903\n"
          ],
          "name": "stdout"
        }
      ]
    },
    {
      "cell_type": "markdown",
      "metadata": {
        "id": "URXqfhrGcFag"
      },
      "source": [
        "# **Odd Up, Even Down — N Times**\n",
        "\n",
        "Create a function that performs an even-odd transform to a list, n times. Each even-odd transformation:\n",
        "\n",
        "Adds two (+2) to each odd integer.\n",
        "\n",
        "Subtracts two (-2) from each even integer.\n",
        "\n",
        "Examples\n",
        "\n",
        "* even_odd_transform([3, 4, 9], 3) ➞ [9, -2, 15]\n",
        "\n",
        " ( Since [3, 4, 9] => [5, 2, 11] => [7, 0, 13] => [9, -2, 15])\n",
        "\n",
        "* even_odd_transform([0, 0, 0], 10) ➞ [-20, -20, -20]\n",
        "\n",
        "* even_odd_transform([1, 2, 3], 1) ➞ [3, 0, 5]"
      ]
    },
    {
      "cell_type": "code",
      "metadata": {
        "id": "FcVrjyaAcE45",
        "colab": {
          "base_uri": "https://localhost:8080/"
        },
        "outputId": "ac085e9c-99a4-4049-d632-5a140f9199b6"
      },
      "source": [
        "i = 0  # Hüseyin\n",
        "even_odd_transform = [[]]\n",
        "while i < 3:\n",
        "  nums = int(input(\"Enter three numbers: \"))\n",
        "  even_odd_transform[0].append(nums)  # list of the numbers to be calculated\n",
        "  i += 1\n",
        "add_sub = int(input(\"Enter the number to repeat: \"))\n",
        "even_odd_transform.append(add_sub)  # number of calculation step (nth times)\n",
        "a = 0\n",
        "while a < 3:\n",
        "  if even_odd_transform[0][a] % 2 == 0:\n",
        "    even_odd_transform[0][a] -= 2 * add_sub\n",
        "  else:\n",
        "    even_odd_transform[0][a] += 2 * add_sub\n",
        "  a += 1\n",
        "print(even_odd_transform[0])\n",
        "\n",
        "#for a in even_odd_transform[0]:\n",
        "#  if a % 2 == 0:\n",
        "#    even_odd_transform[0][a] -= 2 * add_sub\n",
        "#  else:\n",
        "#    even_odd_transform[0][a] += 2 * add_sub\n",
        "#print(even_odd_transform[0])"
      ],
      "execution_count": 17,
      "outputs": [
        {
          "output_type": "stream",
          "text": [
            "Enter three numbers: 3\n",
            "Enter three numbers: 4\n",
            "Enter three numbers: 5\n",
            "Enter the number to repeat: 5\n",
            "[13, -6, 15]\n"
          ],
          "name": "stdout"
        }
      ]
    },
    {
      "cell_type": "code",
      "metadata": {
        "id": "J80RSoaj7Ob3",
        "colab": {
          "base_uri": "https://localhost:8080/"
        },
        "outputId": "59bd1a4f-3dec-4a85-cbfa-2bab110e1740"
      },
      "source": [
        "def even_odd_transform(ls, num):  # Selman\n",
        "    ls1 = []\n",
        "    for i in ls:\n",
        "        if i % 2 == 0:\n",
        "            ls1.append(i+(-2*num))\n",
        "        else:\n",
        "            ls1.append(i+(2*num))\n",
        "    return ls1\n",
        "even_odd_transform([2, 4, 7], 2)"
      ],
      "execution_count": 18,
      "outputs": [
        {
          "output_type": "execute_result",
          "data": {
            "text/plain": [
              "[-2, 0, 11]"
            ]
          },
          "metadata": {
            "tags": []
          },
          "execution_count": 18
        }
      ]
    },
    {
      "cell_type": "code",
      "metadata": {
        "id": "5hjzu9DFE22E"
      },
      "source": [
        "def even_odd_transform(liste,carpan):  # Samet\n",
        "    for i in range(len(liste)):\n",
        "        if liste[i] % 2 == 0:\n",
        "            liste[i] = liste[i] - carpan*2\n",
        "        else:\n",
        "            liste[i] = liste[i] + carpan*2\n",
        "    return liste\n",
        "even_odd_transform([1, 2, 3], 1)"
      ],
      "execution_count": null,
      "outputs": []
    },
    {
      "cell_type": "code",
      "metadata": {
        "colab": {
          "base_uri": "https://localhost:8080/"
        },
        "id": "qBZwh2PcaZN3",
        "outputId": "84f4f436-78df-40f5-f969-321199badada"
      },
      "source": [
        "def trans(list1, n):  # Emre\n",
        "\n",
        "    for i in range(n):\n",
        "        a = 0  \n",
        "\n",
        "        while a < len(list1):\n",
        "            if list1[a] % 2 == 0:\n",
        "                list1[a] = list1[a] - 2\n",
        "                a += 1\n",
        "            else:\n",
        "                list1[a] = list1[a] + 2\n",
        "                a += 1\n",
        "    return list1\n",
        "\n",
        "print(trans([2, 1, 4], 4))  "
      ],
      "execution_count": 20,
      "outputs": [
        {
          "output_type": "stream",
          "text": [
            "[-6, 9, -4]\n"
          ],
          "name": "stdout"
        }
      ]
    }
  ]
}