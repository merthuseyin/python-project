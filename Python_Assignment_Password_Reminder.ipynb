{
  "nbformat": 4,
  "nbformat_minor": 0,
  "metadata": {
    "colab": {
      "name": "Python_Assignment_Password Reminder.ipynb",
      "provenance": []
    },
    "kernelspec": {
      "name": "python3",
      "display_name": "Python 3"
    },
    "language_info": {
      "name": "python"
    }
  },
  "cells": [
    {
      "cell_type": "code",
      "metadata": {
        "colab": {
          "base_uri": "https://localhost:8080/"
        },
        "id": "5OC68IqzXxT_",
        "outputId": "64544b9c-3c83-49c8-9c81-1fd0d6fbbe82"
      },
      "source": [
        "user_name = input(\"Please enter your name: \").title().strip()\n",
        "name = \"Huseyin\"\n",
        "if user_name == name:\n",
        "  print(f\"Hello {name.title()}! The password is: @9W26#\")\n",
        "else:\n",
        "  print(f\"Hello {user_name.title()}! See you later.\")"
      ],
      "execution_count": 5,
      "outputs": [
        {
          "output_type": "stream",
          "text": [
            "Please enter your name: huSEyin    \n",
            "Hello Huseyin! The password is: @9W26#\n"
          ],
          "name": "stdout"
        }
      ]
    }
  ]
}